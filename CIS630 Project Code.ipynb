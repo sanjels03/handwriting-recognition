{
 "cells": [
  {
   "cell_type": "markdown",
   "id": "09b376e8-397f-4cd2-bba6-0566e91c60d3",
   "metadata": {},
   "source": [
    "Loading pakcages and data (images) into notebook"
   ]
  },
  {
   "cell_type": "code",
   "execution_count": 6,
   "id": "1b1a5b2a-52d8-47d9-a186-c8c5adf48c6f",
   "metadata": {},
   "outputs": [],
   "source": [
    "#load packages\n",
    "import os  \n",
    "import pandas as pd  \n",
    "import matplotlib.pyplot as plt  \n",
    "\n",
    "\n",
    "image_folder = \"/Users/shikhusanjel/Desktop/CNNTEST/Images\"\n",
    "train_lines_path = \"/Users/shikhusanjel/Desktop/CNNTEST/Sets/TrainLines.txt\"\n",
    "transcription_folder = \"/Users/shikhusanjel/Desktop/CNNTEST/Transcriptions\"\n"
   ]
  },
  {
   "cell_type": "code",
   "execution_count": 7,
   "id": "6ce0dcff-99d2-4247-a200-b37729e44c0a",
   "metadata": {},
   "outputs": [
    {
     "name": "stdout",
     "output_type": "stream",
     "text": [
      "Requirement already satisfied: opencv-python in /Applications/anaconda3/lib/python3.12/site-packages (4.11.0.86)\n",
      "Requirement already satisfied: numpy>=1.21.2 in /Applications/anaconda3/lib/python3.12/site-packages (from opencv-python) (1.26.4)\n"
     ]
    }
   ],
   "source": [
    "!pip install opencv-python\n",
    "import cv2  "
   ]
  },
  {
   "cell_type": "code",
   "execution_count": 8,
   "id": "75423006-d5b2-4049-9688-4636aeede0a7",
   "metadata": {},
   "outputs": [
    {
     "name": "stdout",
     "output_type": "stream",
     "text": [
      "Files in dataset: ['.DS_Store', 'Images', 'Untitled.ipynb', 'Transcriptions', 'Sets', '.ipynb_checkpoints']\n"
     ]
    }
   ],
   "source": [
    "# data path\n",
    "data_folder = \"/Users/shikhusanjel/Desktop/CNNTEST\"\n",
    "\n",
    "# file names listed\n",
    "print(\"Files in dataset:\", os.listdir(data_folder))\n"
   ]
  },
  {
   "cell_type": "code",
   "execution_count": 9,
   "id": "5705e42a-b281-49b7-b73a-7a3ca5ed4b6d",
   "metadata": {},
   "outputs": [
    {
     "name": "stdout",
     "output_type": "stream",
     "text": [
      "Successfully loaded TrainLines.txt\n",
      "First 5 filenames: ['train2011-150_000001', 'train2011-150_000002', 'train2011-150_000003', 'train2011-150_000004', 'train2011-150_000005']\n"
     ]
    }
   ],
   "source": [
    "train_lines_path = \"/Users/shikhusanjel/Desktop/CNNTEST/Sets/TrainLines.txt\" \n",
    "\n",
    "# read and store file names\n",
    "with open(\"/Users/shikhusanjel/Desktop/CNNTEST/Sets/TrainLines.txt\", \"r\") as file:\n",
    "    train_filenames = file.read().splitlines()  \n",
    "\n",
    "print(\"Successfully loaded TrainLines.txt\")\n",
    "print(\"First 5 filenames:\", train_filenames[:5])  \n"
   ]
  },
  {
   "cell_type": "code",
   "execution_count": 10,
   "id": "e68424c1-a663-4b69-9f07-31221d211a8b",
   "metadata": {},
   "outputs": [
    {
     "name": "stdout",
     "output_type": "stream",
     "text": [
      "Image path creation done. Missing files: 0\n"
     ]
    }
   ],
   "source": [
    "image_folder = \"/Users/shikhusanjel/Desktop/CNNTEST/Images\"  \n",
    "\n",
    "train_images = [os.path.join(image_folder, f\"{name}.jpg\") for name in train_filenames]\n",
    "missing_files = [img for img in train_images if not os.path.exists(img)]\n",
    "\n",
    "print(f\"Image path creation done. Missing files: {len(missing_files)}\")\n",
    "if len(missing_files) > 0:\n",
    "    print(\"⚠ Some image files are missing. Check file extensions (JPG/PNG) or folder location.\")\n"
   ]
  },
  {
   "cell_type": "code",
   "execution_count": 11,
   "id": "466a3d8d-e557-4a54-9d7e-20ca654963ba",
   "metadata": {},
   "outputs": [],
   "source": [
    "train_lines_path = \"/Users/shikhusanjel/Desktop/CNNTTEST/Sets/TrainLines.txt\"  # Update if needed\n"
   ]
  },
  {
   "cell_type": "code",
   "execution_count": 12,
   "id": "d7d24518-fe8a-4938-9c95-683a1ed04167",
   "metadata": {},
   "outputs": [
    {
     "data": {
      "image/png": "[encoded data removed]",
      "text/plain": [
       "<Figure size 640x480 with 1 Axes>"
      ]
     },
     "metadata": {},
     "output_type": "display_data"
    }
   ],
   "source": [
    "import cv2\n",
    "import matplotlib.pyplot as plt\n",
    "\n",
    "# loading and displaying the first image\n",
    "img_path = train_images[0]  \n",
    "img = cv2.imread(img_path, cv2.IMREAD_GRAYSCALE) \n",
    "\n",
    "if img is None:\n",
    "    print(\"⚠ Image loading failed. Check file path and extension.\")\n",
    "else:\n",
    "    plt.imshow(img, cmap=\"gray\")\n",
    "    plt.title(\"Sample Image\")\n",
    "    plt.show()\n"
   ]
  },
  {
   "attachments": {},
   "cell_type": "markdown",
   "id": "ddfbc187-0e38-4b95-a059-60fca7903d92",
   "metadata": {},
   "source": [
    "Preprocess Images for CNN"
   ]
  },
  {
   "cell_type": "code",
   "execution_count": 14,
   "id": "3f999f8b-dd23-4463-b1b0-372335b95397",
   "metadata": {},
   "outputs": [
    {
     "name": "stdout",
     "output_type": "stream",
     "text": [
      "Preprocessing complete! Processed 10188 images\n",
      "Image shape: (32, 128, 1)\n"
     ]
    }
   ],
   "source": [
    "#Resize images to (128x32) pixels for uniform input size\n",
    "#Normalize pixel values between 0 and 1 for better training\n",
    "#Convert images into NumPy arrays for efficient processing.\n",
    "\n",
    "\n",
    "import numpy as np\n",
    "import cv2\n",
    "\n",
    "# define image size \n",
    "IMG_HEIGHT = 32\n",
    "IMG_WIDTH = 128\n",
    "\n",
    "# the function to preprocess an image\n",
    "def preprocess_image(image_path):\n",
    "    img = cv2.imread(image_path, cv2.IMREAD_GRAYSCALE)  # Load grayscale\n",
    "    img = cv2.resize(img, (IMG_WIDTH, IMG_HEIGHT))  # Resize to uniform size\n",
    "    img = img / 255.0  # Normalize pixel values between 0-1\n",
    "    img = np.expand_dims(img, axis=-1)  # Add channel dimension for CNN\n",
    "    return img\n",
    "\n",
    "# applying preprocessing to all images\n",
    "train_images_processed = np.array([preprocess_image(img_path) for img_path in train_images])\n",
    "\n",
    "print(f\"Preprocessing complete! Processed {len(train_images_processed)} images\")\n",
    "print(f\"Image shape: {train_images_processed[0].shape}\")  \n"
   ]
  },
  {
   "cell_type": "markdown",
   "id": "4cb26956-8b9e-401d-ae34-57666141c3b6",
   "metadata": {},
   "source": [
    "Load Labels"
   ]
  },
  {
   "cell_type": "code",
   "execution_count": 16,
   "id": "7d24f88a-3fc8-47f4-bb5f-53e816e4be9d",
   "metadata": {},
   "outputs": [
    {
     "name": "stdout",
     "output_type": "stream",
     "text": [
      "Total images found: 10188\n",
      "Missing images: 0\n"
     ]
    }
   ],
   "source": [
    "# path to TrainLines.txt\n",
    "train_lines_path = \"/Users/shikhusanjel/Desktop/CNNTEST/Sets/TrainLines.txt\"\n",
    "\n",
    "# path to Images folder\n",
    "image_folder = \"/Users/shikhusanjel/Desktop/CNNTEST/Images\"\n",
    "\n",
    "# read TrainLines.txt and extract filenames\n",
    "with open(train_lines_path, \"r\") as file:\n",
    "    train_filenames = [line.strip() for line in file.readlines()]  \n",
    "\n",
    "# convert filenames to full image paths\n",
    "train_images = [os.path.join(image_folder, f\"{name}.jpg\") for name in train_filenames]\n",
    "\n",
    "# check if files exist\n",
    "missing_files = [img for img in train_images if not os.path.exists(img)]\n",
    "\n",
    "# output \n",
    "print(f\"Total images found: {len(train_images) - len(missing_files)}\")\n",
    "print(f\"Missing images: {len(missing_files)}\")\n"
   ]
  },
  {
   "cell_type": "code",
   "execution_count": 17,
   "id": "99c2e2f8-cf1b-4247-99e7-0e4869bfc02c",
   "metadata": {},
   "outputs": [
    {
     "name": "stdout",
     "output_type": "stream",
     "text": [
      "Total labels loaded: 10188\n",
      "Missing labels: 0\n",
      "\n",
      "Sample image-label pairs:\n",
      "/Users/shikhusanjel/Desktop/CNNTEST/Images/train2011-150_000001.jpg -> J'ai perdu mon emploi depuis 3 mois et je me\n",
      "/Users/shikhusanjel/Desktop/CNNTEST/Images/train2011-150_000002.jpg -> retrouve en grande difficulté financière.\n",
      "/Users/shikhusanjel/Desktop/CNNTEST/Images/train2011-150_000003.jpg -> Je vous demande donc de m'accorder des\n",
      "/Users/shikhusanjel/Desktop/CNNTEST/Images/train2011-150_000004.jpg -> facilités de paiement et si cela était possible\n",
      "/Users/shikhusanjel/Desktop/CNNTEST/Images/train2011-150_000005.jpg -> une réduction sur mon tarif d'électricité.\n"
     ]
    }
   ],
   "source": [
    "# path to folder \n",
    "transcriptions_folder = \"/Users/shikhusanjel/Desktop/CNNTEST/Transcriptions\"\n",
    "\n",
    "# dictionary to store labels (image name to label content)\n",
    "train_labels = {}\n",
    "\n",
    "# read transcriptions for each image in train_images\n",
    "for image_path in train_images:\n",
    "    image_name = os.path.basename(image_path).replace(\".jpg\", \".txt\")  \n",
    "    transcription_path = os.path.join(transcriptions_folder, image_name)\n",
    "    \n",
    "    # Check if transcription file exists\n",
    "    if os.path.exists(transcription_path):\n",
    "        with open(transcription_path, \"r\") as file:\n",
    "            train_labels[image_path] = file.read().strip()  \n",
    "    else:\n",
    "        train_labels[image_path] = None  \n",
    "\n",
    "# results\n",
    "print(f\"Total labels loaded: {sum(1 for v in train_labels.values() if v is not None)}\")\n",
    "print(f\"Missing labels: {sum(1 for v in train_labels.values() if v is None)}\")\n",
    "\n",
    "# print first 5 images with labels\n",
    "print(\"\\nSample image-label pairs:\")\n",
    "for img, lbl in list(train_labels.items())[:5]:\n",
    "    print(f\"{img} -> {lbl}\")\n"
   ]
  },
  {
   "attachments": {},
   "cell_type": "markdown",
   "id": "383d3567-b14b-490a-9b81-5a13cf9ecb5f",
   "metadata": {},
   "source": [
    "Load Images & Prepare Data"
   ]
  },
  {
   "cell_type": "code",
   "execution_count": 24,
   "id": "d72ff73d-25aa-43ed-a4ab-345d331b43ee",
   "metadata": {},
   "outputs": [
    {
     "name": "stdout",
     "output_type": "stream",
     "text": [
      " Total labels loaded: 10188\n",
      " Missing labels: 0\n",
      "\n",
      " Sample image-label pairs:\n",
      "/Users/shikhusanjel/Desktop/CNNTEST/Images/train2011-150_000001.jpg -> J'ai perdu mon emploi depuis 3 mois et je me\n",
      "/Users/shikhusanjel/Desktop/CNNTEST/Images/train2011-150_000002.jpg -> retrouve en grande difficulté financière.\n",
      "/Users/shikhusanjel/Desktop/CNNTEST/Images/train2011-150_000003.jpg -> Je vous demande donc de m'accorder des\n",
      "/Users/shikhusanjel/Desktop/CNNTEST/Images/train2011-150_000004.jpg -> facilités de paiement et si cela était possible\n",
      "/Users/shikhusanjel/Desktop/CNNTEST/Images/train2011-150_000005.jpg -> une réduction sur mon tarif d'électricité.\n"
     ]
    }
   ],
   "source": [
    "#Load and Match Transcriptions\n",
    "\n",
    "# read transcriptions for each image in train_images\n",
    "for image_path in train_images:\n",
    "    image_name = os.path.basename(image_path).replace(\".jpg\", \".txt\")  \n",
    "    transcription_path = os.path.join(transcriptions_folder, image_name)\n",
    "    \n",
    "    # check if transcription file exists\n",
    "    if os.path.exists(transcription_path):\n",
    "        with open(transcription_path, \"r\", encoding=\"utf-8\") as file:\n",
    "            train_labels[image_path] = file.read().strip()  \n",
    "    else:\n",
    "        train_labels[image_path] = None  \n",
    "\n",
    "# results\n",
    "total_labels = sum(1 for v in train_labels.values() if v is not None)\n",
    "missing_labels = sum(1 for v in train_labels.values() if v is None)\n",
    "\n",
    "print(f\" Total labels loaded: {total_labels}\")\n",
    "print(f\" Missing labels: {missing_labels}\")\n",
    "\n",
    "# Print first 5 images with labels\n",
    "print(\"\\n Sample image-label pairs:\")\n",
    "for img, lbl in list(train_labels.items())[:5]:\n",
    "    print(f\"{img} -> {lbl}\")"
   ]
  },
  {
   "cell_type": "markdown",
   "id": "c1439d1f-4728-4931-87d7-d1ed425232a7",
   "metadata": {},
   "source": [
    "Tokenization and vectorization"
   ]
  },
  {
   "cell_type": "code",
   "execution_count": 26,
   "id": "ebd7641b-4214-49f4-a663-ee5d547c836b",
   "metadata": {},
   "outputs": [],
   "source": [
    "from tensorflow.keras.preprocessing.text import Tokenizer\n",
    "from tensorflow.keras.preprocessing.sequence import pad_sequences\n"
   ]
  },
  {
   "cell_type": "code",
   "execution_count": 28,
   "id": "03607818-276e-4c26-b974-9aa5f73297cd",
   "metadata": {},
   "outputs": [
    {
     "name": "stdout",
     "output_type": "stream",
     "text": [
      "2.17.0\n"
     ]
    }
   ],
   "source": [
    "import tensorflow as tf\n",
    "print(tf.__version__)\n"
   ]
  },
  {
   "cell_type": "code",
   "execution_count": 30,
   "id": "37e46459-b6e6-40d3-bba7-0a4f0f6ac21a",
   "metadata": {},
   "outputs": [
    {
     "name": "stdout",
     "output_type": "stream",
     "text": [
      "Text tokenization complete! Processed 10188 labels\n",
      "Example tokenized label: [19, 21, 7, 6, 1, 15, 2, 4, 11, 10, 1, 12, 8, 5, 1, 2, 12, 15, 13, 8, 6, 1, 11, 2, 15, 10, 6, 3, 1, 39, 1, 12, 8, 6, 3, 1, 2, 9, 1, 19, 2, 1, 12, 2]\n",
      "Example padded label: [19 21  7  6  1 15  2  4 11 10  1 12  8  5  1  2 12 15 13  8  6  1 11  2\n",
      " 15 10  6  3  1 39  1 12  8  6  3  1  2  9  1 19  2  1 12  2  0  0  0  0\n",
      "  0  0  0  0  0  0  0  0  0  0  0  0  0  0  0  0  0  0  0  0  0  0  0  0\n",
      "  0  0  0  0  0  0  0  0  0  0  0  0  0  0  0  0  0  0  0  0  0  0  0  0\n",
      "  0  0  0  0  0  0  0  0  0  0  0  0  0  0]\n"
     ]
    }
   ],
   "source": [
    "\n",
    "# extract transcriptions \n",
    "texts = [label for label in train_labels.values() if label is not None]\n",
    "\n",
    "# initialize tokenizer and fit on text data\n",
    "tokenizer = Tokenizer(char_level=True, oov_token=None)  # Character-level tokenization\n",
    "tokenizer.fit_on_texts(texts)\n",
    "\n",
    "# convert text labels to sequences of numbers\n",
    "train_sequences = tokenizer.texts_to_sequences(texts)\n",
    "\n",
    "# pad sequences to ensure uniform length\n",
    "max_length = max(len(seq) for seq in train_sequences)  # Find longest label\n",
    "train_padded = pad_sequences(train_sequences, maxlen=max_length, padding=\"post\")\n",
    "\n",
    "print(f\"Text tokenization complete! Processed {len(train_padded)} labels\")\n",
    "print(f\"Example tokenized label: {train_sequences[0]}\")\n",
    "print(f\"Example padded label: {train_padded[0]}\")\n"
   ]
  },
  {
   "attachments": {},
   "cell_type": "markdown",
   "id": "b3a07027-5273-4d8c-a369-5247f8fb13e9",
   "metadata": {},
   "source": [
    "Splitting Data into Train/Validation Sets"
   ]
  },
  {
   "cell_type": "code",
   "execution_count": 107,
   "id": "c9c4451d-5aec-44d9-a229-aefbf76850a2",
   "metadata": {},
   "outputs": [
    {
     "name": "stdout",
     "output_type": "stream",
     "text": [
      "Updated image count: 5216\n"
     ]
    }
   ],
   "source": [
    "# Keep only images that have corresponding labels\n",
    "filtered_train_images = [img for img in train_images if img in train_labels]\n",
    "\n",
    "print(f\"Updated image count: {len(filtered_train_images)}\")\n"
   ]
  },
  {
   "cell_type": "code",
   "execution_count": 109,
   "id": "a540d668-51f8-41dc-9994-f517090684b3",
   "metadata": {},
   "outputs": [
    {
     "name": "stdout",
     "output_type": "stream",
     "text": [
      "Training images: 4172, Test images: 1044\n"
     ]
    }
   ],
   "source": [
    "from sklearn.model_selection import train_test_split\n",
    "\n",
    "# Ensure image paths and labels match in length\n",
    "train_img_paths, test_img_paths, train_texts, test_texts = train_test_split(\n",
    "    filtered_train_images,  # Filtered images only\n",
    "    [train_labels[img] for img in filtered_train_images],  \n",
    "    test_size=0.2, \n",
    "    random_state=42\n",
    ")\n",
    "\n",
    "# Convert back into dictionaries\n",
    "train_labels = dict(zip(train_img_paths, train_texts))\n",
    "test_labels = dict(zip(test_img_paths, test_texts))\n",
    "\n",
    "print(f\"Training images: {len(train_labels)}, Test images: {len(test_labels)}\")\n"
   ]
  },
  {
   "cell_type": "markdown",
   "id": "a10b5dd2-b359-4dbf-882c-1bc34b76bca8",
   "metadata": {},
   "source": [
    "Building the Model"
   ]
  },
  {
   "cell_type": "code",
   "execution_count": 111,
   "id": "2e1a1bd7-061a-42b1-8da5-bf5df96682e7",
   "metadata": {},
   "outputs": [
    {
     "data": {
      "text/html": [
       "<pre style=\"white-space:pre;overflow-x:auto;line-height:normal;font-family:Menlo,'DejaVu Sans Mono',consolas,'Courier New',monospace\"><span style=\"font-weight: bold\">Model: \"functional_1\"</span>\n",
       "</pre>\n"
      ],
      "text/plain": [
       "\u001b[1mModel: \"functional_1\"\u001b[0m\n"
      ]
     },
     "metadata": {},
     "output_type": "display_data"
    },
    {
     "data": {
      "text/html": [
       "<pre style=\"white-space:pre;overflow-x:auto;line-height:normal;font-family:Menlo,'DejaVu Sans Mono',consolas,'Courier New',monospace\">┏━━━━━━━━━━━━━━━━━━━━━━━━━━━━━━━━━┳━━━━━━━━━━━━━━━━━━━━━━━━┳━━━━━━━━━━━━━━━┓\n",
       "┃<span style=\"font-weight: bold\"> Layer (type)                    </span>┃<span style=\"font-weight: bold\"> Output Shape           </span>┃<span style=\"font-weight: bold\">       Param # </span>┃\n",
       "┡━━━━━━━━━━━━━━━━━━━━━━━━━━━━━━━━━╇━━━━━━━━━━━━━━━━━━━━━━━━╇━━━━━━━━━━━━━━━┩\n",
       "│ image_input (<span style=\"color: #0087ff; text-decoration-color: #0087ff\">InputLayer</span>)        │ (<span style=\"color: #00d7ff; text-decoration-color: #00d7ff\">None</span>, <span style=\"color: #00af00; text-decoration-color: #00af00\">32</span>, <span style=\"color: #00af00; text-decoration-color: #00af00\">128</span>, <span style=\"color: #00af00; text-decoration-color: #00af00\">1</span>)     │             <span style=\"color: #00af00; text-decoration-color: #00af00\">0</span> │\n",
       "├─────────────────────────────────┼────────────────────────┼───────────────┤\n",
       "│ conv2d_3 (<span style=\"color: #0087ff; text-decoration-color: #0087ff\">Conv2D</span>)               │ (<span style=\"color: #00d7ff; text-decoration-color: #00d7ff\">None</span>, <span style=\"color: #00af00; text-decoration-color: #00af00\">32</span>, <span style=\"color: #00af00; text-decoration-color: #00af00\">128</span>, <span style=\"color: #00af00; text-decoration-color: #00af00\">32</span>)    │           <span style=\"color: #00af00; text-decoration-color: #00af00\">320</span> │\n",
       "├─────────────────────────────────┼────────────────────────┼───────────────┤\n",
       "│ max_pooling2d_3 (<span style=\"color: #0087ff; text-decoration-color: #0087ff\">MaxPooling2D</span>)  │ (<span style=\"color: #00d7ff; text-decoration-color: #00d7ff\">None</span>, <span style=\"color: #00af00; text-decoration-color: #00af00\">16</span>, <span style=\"color: #00af00; text-decoration-color: #00af00\">64</span>, <span style=\"color: #00af00; text-decoration-color: #00af00\">32</span>)     │             <span style=\"color: #00af00; text-decoration-color: #00af00\">0</span> │\n",
       "├─────────────────────────────────┼────────────────────────┼───────────────┤\n",
       "│ conv2d_4 (<span style=\"color: #0087ff; text-decoration-color: #0087ff\">Conv2D</span>)               │ (<span style=\"color: #00d7ff; text-decoration-color: #00d7ff\">None</span>, <span style=\"color: #00af00; text-decoration-color: #00af00\">16</span>, <span style=\"color: #00af00; text-decoration-color: #00af00\">64</span>, <span style=\"color: #00af00; text-decoration-color: #00af00\">64</span>)     │        <span style=\"color: #00af00; text-decoration-color: #00af00\">18,496</span> │\n",
       "├─────────────────────────────────┼────────────────────────┼───────────────┤\n",
       "│ max_pooling2d_4 (<span style=\"color: #0087ff; text-decoration-color: #0087ff\">MaxPooling2D</span>)  │ (<span style=\"color: #00d7ff; text-decoration-color: #00d7ff\">None</span>, <span style=\"color: #00af00; text-decoration-color: #00af00\">8</span>, <span style=\"color: #00af00; text-decoration-color: #00af00\">32</span>, <span style=\"color: #00af00; text-decoration-color: #00af00\">64</span>)      │             <span style=\"color: #00af00; text-decoration-color: #00af00\">0</span> │\n",
       "├─────────────────────────────────┼────────────────────────┼───────────────┤\n",
       "│ conv2d_5 (<span style=\"color: #0087ff; text-decoration-color: #0087ff\">Conv2D</span>)               │ (<span style=\"color: #00d7ff; text-decoration-color: #00d7ff\">None</span>, <span style=\"color: #00af00; text-decoration-color: #00af00\">8</span>, <span style=\"color: #00af00; text-decoration-color: #00af00\">32</span>, <span style=\"color: #00af00; text-decoration-color: #00af00\">128</span>)     │        <span style=\"color: #00af00; text-decoration-color: #00af00\">73,856</span> │\n",
       "├─────────────────────────────────┼────────────────────────┼───────────────┤\n",
       "│ max_pooling2d_5 (<span style=\"color: #0087ff; text-decoration-color: #0087ff\">MaxPooling2D</span>)  │ (<span style=\"color: #00d7ff; text-decoration-color: #00d7ff\">None</span>, <span style=\"color: #00af00; text-decoration-color: #00af00\">4</span>, <span style=\"color: #00af00; text-decoration-color: #00af00\">16</span>, <span style=\"color: #00af00; text-decoration-color: #00af00\">128</span>)     │             <span style=\"color: #00af00; text-decoration-color: #00af00\">0</span> │\n",
       "├─────────────────────────────────┼────────────────────────┼───────────────┤\n",
       "│ reshape_1 (<span style=\"color: #0087ff; text-decoration-color: #0087ff\">Reshape</span>)             │ (<span style=\"color: #00d7ff; text-decoration-color: #00d7ff\">None</span>, <span style=\"color: #00af00; text-decoration-color: #00af00\">16</span>, <span style=\"color: #00af00; text-decoration-color: #00af00\">512</span>)        │             <span style=\"color: #00af00; text-decoration-color: #00af00\">0</span> │\n",
       "├─────────────────────────────────┼────────────────────────┼───────────────┤\n",
       "│ bidirectional_2 (<span style=\"color: #0087ff; text-decoration-color: #0087ff\">Bidirectional</span>) │ (<span style=\"color: #00d7ff; text-decoration-color: #00d7ff\">None</span>, <span style=\"color: #00af00; text-decoration-color: #00af00\">16</span>, <span style=\"color: #00af00; text-decoration-color: #00af00\">256</span>)        │       <span style=\"color: #00af00; text-decoration-color: #00af00\">656,384</span> │\n",
       "├─────────────────────────────────┼────────────────────────┼───────────────┤\n",
       "│ bidirectional_3 (<span style=\"color: #0087ff; text-decoration-color: #0087ff\">Bidirectional</span>) │ (<span style=\"color: #00d7ff; text-decoration-color: #00d7ff\">None</span>, <span style=\"color: #00af00; text-decoration-color: #00af00\">16</span>, <span style=\"color: #00af00; text-decoration-color: #00af00\">256</span>)        │       <span style=\"color: #00af00; text-decoration-color: #00af00\">394,240</span> │\n",
       "├─────────────────────────────────┼────────────────────────┼───────────────┤\n",
       "│ output (<span style=\"color: #0087ff; text-decoration-color: #0087ff\">Dense</span>)                  │ (<span style=\"color: #00d7ff; text-decoration-color: #00d7ff\">None</span>, <span style=\"color: #00af00; text-decoration-color: #00af00\">16</span>, <span style=\"color: #00af00; text-decoration-color: #00af00\">71</span>)         │        <span style=\"color: #00af00; text-decoration-color: #00af00\">18,247</span> │\n",
       "└─────────────────────────────────┴────────────────────────┴───────────────┘\n",
       "</pre>\n"
      ],
      "text/plain": [
       "┏━━━━━━━━━━━━━━━━━━━━━━━━━━━━━━━━━┳━━━━━━━━━━━━━━━━━━━━━━━━┳━━━━━━━━━━━━━━━┓\n",
       "┃\u001b[1m \u001b[0m\u001b[1mLayer (type)                   \u001b[0m\u001b[1m \u001b[0m┃\u001b[1m \u001b[0m\u001b[1mOutput Shape          \u001b[0m\u001b[1m \u001b[0m┃\u001b[1m \u001b[0m\u001b[1m      Param #\u001b[0m\u001b[1m \u001b[0m┃\n",
       "┡━━━━━━━━━━━━━━━━━━━━━━━━━━━━━━━━━╇━━━━━━━━━━━━━━━━━━━━━━━━╇━━━━━━━━━━━━━━━┩\n",
       "│ image_input (\u001b[38;5;33mInputLayer\u001b[0m)        │ (\u001b[38;5;45mNone\u001b[0m, \u001b[38;5;34m32\u001b[0m, \u001b[38;5;34m128\u001b[0m, \u001b[38;5;34m1\u001b[0m)     │             \u001b[38;5;34m0\u001b[0m │\n",
       "├─────────────────────────────────┼────────────────────────┼───────────────┤\n",
       "│ conv2d_3 (\u001b[38;5;33mConv2D\u001b[0m)               │ (\u001b[38;5;45mNone\u001b[0m, \u001b[38;5;34m32\u001b[0m, \u001b[38;5;34m128\u001b[0m, \u001b[38;5;34m32\u001b[0m)    │           \u001b[38;5;34m320\u001b[0m │\n",
       "├─────────────────────────────────┼────────────────────────┼───────────────┤\n",
       "│ max_pooling2d_3 (\u001b[38;5;33mMaxPooling2D\u001b[0m)  │ (\u001b[38;5;45mNone\u001b[0m, \u001b[38;5;34m16\u001b[0m, \u001b[38;5;34m64\u001b[0m, \u001b[38;5;34m32\u001b[0m)     │             \u001b[38;5;34m0\u001b[0m │\n",
       "├─────────────────────────────────┼────────────────────────┼───────────────┤\n",
       "│ conv2d_4 (\u001b[38;5;33mConv2D\u001b[0m)               │ (\u001b[38;5;45mNone\u001b[0m, \u001b[38;5;34m16\u001b[0m, \u001b[38;5;34m64\u001b[0m, \u001b[38;5;34m64\u001b[0m)     │        \u001b[38;5;34m18,496\u001b[0m │\n",
       "├─────────────────────────────────┼────────────────────────┼───────────────┤\n",
       "│ max_pooling2d_4 (\u001b[38;5;33mMaxPooling2D\u001b[0m)  │ (\u001b[38;5;45mNone\u001b[0m, \u001b[38;5;34m8\u001b[0m, \u001b[38;5;34m32\u001b[0m, \u001b[38;5;34m64\u001b[0m)      │             \u001b[38;5;34m0\u001b[0m │\n",
       "├─────────────────────────────────┼────────────────────────┼───────────────┤\n",
       "│ conv2d_5 (\u001b[38;5;33mConv2D\u001b[0m)               │ (\u001b[38;5;45mNone\u001b[0m, \u001b[38;5;34m8\u001b[0m, \u001b[38;5;34m32\u001b[0m, \u001b[38;5;34m128\u001b[0m)     │        \u001b[38;5;34m73,856\u001b[0m │\n",
       "├─────────────────────────────────┼────────────────────────┼───────────────┤\n",
       "│ max_pooling2d_5 (\u001b[38;5;33mMaxPooling2D\u001b[0m)  │ (\u001b[38;5;45mNone\u001b[0m, \u001b[38;5;34m4\u001b[0m, \u001b[38;5;34m16\u001b[0m, \u001b[38;5;34m128\u001b[0m)     │             \u001b[38;5;34m0\u001b[0m │\n",
       "├─────────────────────────────────┼────────────────────────┼───────────────┤\n",
       "│ reshape_1 (\u001b[38;5;33mReshape\u001b[0m)             │ (\u001b[38;5;45mNone\u001b[0m, \u001b[38;5;34m16\u001b[0m, \u001b[38;5;34m512\u001b[0m)        │             \u001b[38;5;34m0\u001b[0m │\n",
       "├─────────────────────────────────┼────────────────────────┼───────────────┤\n",
       "│ bidirectional_2 (\u001b[38;5;33mBidirectional\u001b[0m) │ (\u001b[38;5;45mNone\u001b[0m, \u001b[38;5;34m16\u001b[0m, \u001b[38;5;34m256\u001b[0m)        │       \u001b[38;5;34m656,384\u001b[0m │\n",
       "├─────────────────────────────────┼────────────────────────┼───────────────┤\n",
       "│ bidirectional_3 (\u001b[38;5;33mBidirectional\u001b[0m) │ (\u001b[38;5;45mNone\u001b[0m, \u001b[38;5;34m16\u001b[0m, \u001b[38;5;34m256\u001b[0m)        │       \u001b[38;5;34m394,240\u001b[0m │\n",
       "├─────────────────────────────────┼────────────────────────┼───────────────┤\n",
       "│ output (\u001b[38;5;33mDense\u001b[0m)                  │ (\u001b[38;5;45mNone\u001b[0m, \u001b[38;5;34m16\u001b[0m, \u001b[38;5;34m71\u001b[0m)         │        \u001b[38;5;34m18,247\u001b[0m │\n",
       "└─────────────────────────────────┴────────────────────────┴───────────────┘\n"
      ]
     },
     "metadata": {},
     "output_type": "display_data"
    },
    {
     "data": {
      "text/html": [
       "<pre style=\"white-space:pre;overflow-x:auto;line-height:normal;font-family:Menlo,'DejaVu Sans Mono',consolas,'Courier New',monospace\"><span style=\"font-weight: bold\"> Total params: </span><span style=\"color: #00af00; text-decoration-color: #00af00\">1,161,543</span> (4.43 MB)\n",
       "</pre>\n"
      ],
      "text/plain": [
       "\u001b[1m Total params: \u001b[0m\u001b[38;5;34m1,161,543\u001b[0m (4.43 MB)\n"
      ]
     },
     "metadata": {},
     "output_type": "display_data"
    },
    {
     "data": {
      "text/html": [
       "<pre style=\"white-space:pre;overflow-x:auto;line-height:normal;font-family:Menlo,'DejaVu Sans Mono',consolas,'Courier New',monospace\"><span style=\"font-weight: bold\"> Trainable params: </span><span style=\"color: #00af00; text-decoration-color: #00af00\">1,161,543</span> (4.43 MB)\n",
       "</pre>\n"
      ],
      "text/plain": [
       "\u001b[1m Trainable params: \u001b[0m\u001b[38;5;34m1,161,543\u001b[0m (4.43 MB)\n"
      ]
     },
     "metadata": {},
     "output_type": "display_data"
    },
    {
     "data": {
      "text/html": [
       "<pre style=\"white-space:pre;overflow-x:auto;line-height:normal;font-family:Menlo,'DejaVu Sans Mono',consolas,'Courier New',monospace\"><span style=\"font-weight: bold\"> Non-trainable params: </span><span style=\"color: #00af00; text-decoration-color: #00af00\">0</span> (0.00 B)\n",
       "</pre>\n"
      ],
      "text/plain": [
       "\u001b[1m Non-trainable params: \u001b[0m\u001b[38;5;34m0\u001b[0m (0.00 B)\n"
      ]
     },
     "metadata": {},
     "output_type": "display_data"
    }
   ],
   "source": [
    "#starting  CNN + BiLSTM + CTC model\n",
    "\n",
    "import tensorflow as tf\n",
    "from tensorflow.keras.layers import Conv2D, MaxPooling2D, Dense, Flatten, Bidirectional, LSTM, Input, Reshape\n",
    "from tensorflow.keras.models import Model\n",
    "\n",
    "# input shape\n",
    "IMG_HEIGHT = 32\n",
    "IMG_WIDTH = 128\n",
    "VOCAB_SIZE = len(tokenizer.word_index) + 1  # Number of unique characters + 1 for padding\n",
    "\n",
    "# input layer\n",
    "input_img = Input(shape=(IMG_HEIGHT, IMG_WIDTH, 1), name=\"image_input\")\n",
    "\n",
    "# CNN feature extractor\n",
    "x = Conv2D(32, (3,3), activation=\"relu\", padding=\"same\")(input_img)\n",
    "x = MaxPooling2D(pool_size=(2,2))(x)\n",
    "\n",
    "x = Conv2D(64, (3,3), activation=\"relu\", padding=\"same\")(x)\n",
    "x = MaxPooling2D(pool_size=(2,2))(x)\n",
    "\n",
    "x = Conv2D(128, (3,3), activation=\"relu\", padding=\"same\")(x)\n",
    "x = MaxPooling2D(pool_size=(2,2))(x)\n",
    "\n",
    "# reshape for LSTM input\n",
    "x = Reshape(target_shape=((IMG_WIDTH // 8), (IMG_HEIGHT // 8) * 128))(x)\n",
    "\n",
    "# BiLSTM for sequence modeling\n",
    "x = Bidirectional(LSTM(128, return_sequences=True))(x)\n",
    "x = Bidirectional(LSTM(128, return_sequences=True))(x)\n",
    "\n",
    "# output layer with softmax activation for character prediction\n",
    "output = Dense(VOCAB_SIZE, activation=\"softmax\", name=\"output\")(x)\n",
    "\n",
    "# defined model\n",
    "model = Model(inputs=input_img, outputs=output)\n",
    "\n",
    "# model summary\n",
    "model.summary()\n"
   ]
  },
  {
   "attachments": {},
   "cell_type": "markdown",
   "id": "5b18504d-50c9-456d-9c09-a85eeb86426d",
   "metadata": {},
   "source": [
    " Preprocess the Test images"
   ]
  },
  {
   "cell_type": "code",
   "execution_count": 113,
   "id": "d9dfba50-7b83-49a3-850e-e09c12cf0d26",
   "metadata": {},
   "outputs": [
    {
     "name": "stdout",
     "output_type": "stream",
     "text": [
      "Preprocessing complete! Processed 1044 test images.\n",
      "Example test image shape: (32, 128, 1)\n"
     ]
    }
   ],
   "source": [
    "#Preprocessing the test images\n",
    "def preprocess_image(image_path):\n",
    "    img = cv2.imread(image_path, cv2.IMREAD_GRAYSCALE)  \n",
    "    img = cv2.resize(img, (128, 32))  \n",
    "    img = img / 255.0  \n",
    "    img = np.expand_dims(img, axis=-1)  \n",
    "    return img\n",
    "\n",
    "# Apply preprocessing to test images\n",
    "test_images_processed = np.array([preprocess_image(img_path) for img_path in test_img_paths])\n",
    "\n",
    "print(f\"Preprocessing complete! Processed {len(test_images_processed)} test images.\")\n",
    "print(f\"Example test image shape: {test_images_processed[0].shape}\")\n"
   ]
  },
  {
   "cell_type": "code",
   "execution_count": 135,
   "id": "98b6a984-5207-4d3a-b0d5-a01c702849e9",
   "metadata": {},
   "outputs": [
    {
     "name": "stdout",
     "output_type": "stream",
     "text": [
      "New Train Label Shape: (10188, 16)\n",
      "New Test Label Shape: (1044, 16)\n"
     ]
    }
   ],
   "source": [
    "MAX_SEQ_LENGTH = 16  # Match the model's output length\n",
    "\n",
    "# Re-run tokenization & padding with updated length\n",
    "train_sequences_padded = pad_sequences(train_sequences, maxlen=MAX_SEQ_LENGTH, padding=\"post\")\n",
    "test_sequences_padded = pad_sequences(test_sequences, maxlen=MAX_SEQ_LENGTH, padding=\"post\")\n",
    "\n",
    "print(f\"New Train Label Shape: {train_sequences_padded.shape}\")  # Should now match (None, 16)\n",
    "print(f\"New Test Label Shape: {test_sequences_padded.shape}\")\n"
   ]
  },
  {
   "cell_type": "code",
   "execution_count": 137,
   "id": "248fc392-c616-431b-9f99-edca68f12edb",
   "metadata": {},
   "outputs": [
    {
     "name": "stdout",
     "output_type": "stream",
     "text": [
      "Train Images Shape: (10188, 32, 128, 1)\n",
      "Train Labels Shape: (10188, 16)\n",
      "Test Images Shape: (1044, 32, 128, 1)\n",
      "Test Labels Shape: (1044, 16)\n"
     ]
    }
   ],
   "source": [
    "print(\"Train Images Shape:\", np.array(train_images_processed).shape)\n",
    "print(\"Train Labels Shape:\", np.array(train_sequences_padded).shape)\n",
    "print(\"Test Images Shape:\", np.array(test_images_processed).shape)\n",
    "print(\"Test Labels Shape:\", np.array(test_sequences_padded).shape)\n"
   ]
  },
  {
   "cell_type": "markdown",
   "id": "2b3a20e1-9fc9-4a73-bc11-ad17a825108f",
   "metadata": {},
   "source": [
    "Start Model Training"
   ]
  },
  {
   "cell_type": "code",
   "execution_count": 139,
   "id": "4c39f845-bfb4-4105-b1d7-d6e3fd2c419c",
   "metadata": {},
   "outputs": [
    {
     "name": "stdout",
     "output_type": "stream",
     "text": [
      "Model compiled successfully!\n"
     ]
    }
   ],
   "source": [
    "# Compile the model\n",
    "model.compile(\n",
    "    optimizer=\"adam\",          # You can change to another optimizer if needed\n",
    "    loss=\"sparse_categorical_crossentropy\",  # Use categorical loss for text classification\n",
    "    metrics=[\"accuracy\"]       # Track accuracy during training\n",
    ")\n",
    "\n",
    "print(\"Model compiled successfully!\")\n"
   ]
  },
  {
   "cell_type": "code",
   "execution_count": 3,
   "id": "b20dd199-46aa-4f9f-bd36-24e8dccec08d",
   "metadata": {},
   "outputs": [
    {
     "ename": "NameError",
     "evalue": "name 'model' is not defined",
     "output_type": "error",
     "traceback": [
      "\u001b[0;31m---------------------------------------------------------------------------\u001b[0m",
      "\u001b[0;31mNameError\u001b[0m                                 Traceback (most recent call last)",
      "Cell \u001b[0;32mIn[3], line 6\u001b[0m\n\u001b[1;32m      3\u001b[0m EPOCHS \u001b[38;5;241m=\u001b[39m \u001b[38;5;241m20\u001b[39m\n\u001b[1;32m      5\u001b[0m \u001b[38;5;66;03m# Train model\u001b[39;00m\n\u001b[0;32m----> 6\u001b[0m history \u001b[38;5;241m=\u001b[39m model\u001b[38;5;241m.\u001b[39mfit(train_images_processed, train_sequences_padded, \n\u001b[1;32m      7\u001b[0m                     epochs\u001b[38;5;241m=\u001b[39mEPOCHS, batch_size\u001b[38;5;241m=\u001b[39mBATCH_SIZE, \n\u001b[1;32m      8\u001b[0m                     validation_data\u001b[38;5;241m=\u001b[39m(test_images_processed, test_sequences_padded))\n\u001b[1;32m     10\u001b[0m \u001b[38;5;28mprint\u001b[39m(\u001b[38;5;124m\"\u001b[39m\u001b[38;5;124mTraining completed successfully!\u001b[39m\u001b[38;5;124m\"\u001b[39m)\n",
      "\u001b[0;31mNameError\u001b[0m: name 'model' is not defined"
     ]
    }
   ],
   "source": [
    "# Training configuration\n",
    "BATCH_SIZE = 32\n",
    "EPOCHS = 20\n",
    "\n",
    "# Train model\n",
    "history = model.fit(train_images_processed, train_sequences_padded, \n",
    "                    epochs=EPOCHS, batch_size=BATCH_SIZE, \n",
    "                    validation_data=(test_images_processed, test_sequences_padded))\n",
    "\n",
    "print(\"Training completed successfully!\")\n"
   ]
  },
  {
   "cell_type": "code",
   "execution_count": null,
   "id": "c73fc538-6223-4235-af1e-f0989111a50d",
   "metadata": {},
   "outputs": [],
   "source": [
    "#after epochs run: \n",
    "\n",
    "#evaluate model\n",
    "test_loss, test_acc = model.evaluate(test_images_processed, test_sequences_padded)\n",
    "print(f\"Test Accuracy: {test_acc:.2f}, Test Loss: {test_loss:.2f}\")\n",
    "\n",
    "#save model without retraining\n",
    "model.save(\"handwriting_model.h5\")\n",
    "print(\"Model saved successfully!\")\n"
   ]
  }
 ],
 "metadata": {
  "kernelspec": {
   "display_name": "Python [conda env:base] *",
   "language": "python",
   "name": "conda-base-py"
  },
  "language_info": {
   "codemirror_mode": {
    "name": "ipython",
    "version": 3
   },
   "file_extension": ".py",
   "mimetype": "text/x-python",
   "name": "python",
   "nbconvert_exporter": "python",
   "pygments_lexer": "ipython3",
   "version": "3.12.2"
  }
 },
 "nbformat": 4,
 "nbformat_minor": 5
}
